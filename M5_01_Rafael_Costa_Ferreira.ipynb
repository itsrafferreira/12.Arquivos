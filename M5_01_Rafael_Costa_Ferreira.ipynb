{
 "cells": [
  {
   "cell_type": "markdown",
   "metadata": {},
   "source": [
    "# Exercícios Módulo 5. Ficheiros (Enunciado)\n",
    "\n",
    "Considerações a ter em conta:\n",
    "\n",
    "* Guardar este documento com o seguinte formato para entrega: __M5_01_nome_apelido1_apelido2__\n",
    "* Fazer os exercícios com as ferramentas vistas nas sessões. \n",
    "* Comentar o código\n",
    "* Utilizar nomes de variáveis apropriados, se vai guardar uma nota, chamar a essa variável nota, não n ou x"
   ]
  },
  {
   "cell_type": "markdown",
   "metadata": {},
   "source": [
    "**1)  Neste exercício deverá criar um programa que abra e leia um ficheiro de texto, e nos proporcione a seguinte informação:**\n",
    "\n",
    "* Nome do ficheiro\n",
    "* Se o ficheiro está fechado ou não (True ou False)\n",
    "* O modo de abertura do ficheiro\n",
    "\n",
    "O ficheiro de texto irá denominar-se **provas.txt** e terá o seguinte conteúdo em texto plano (criar previamente):\n",
    "\n",
    "```\n",
    "Olá que tal estás \n",
    "Isto é uma prova \n",
    "Hoje não chove\n",
    "Aproxima-se o natal \n",
    "Até logo e boa \n",
    "continuação\n",
    "```\n",
    "\n",
    "Pesquisar na documentação que métodos nos proporcionam a informação requerida. Por último, listar o conteúdo do ficheiro.\n",
    "\n",
    "**Aviso importante**: *se quer ler um ficheiro que não se escreveu diretamente com Python, é possível que encontre erros de codificação ao \n",
    "mostrar alguns caracteres. Assegure-se de indicar a codificação do ficheiro manualmente durante a abertura como argumento no **open**, por\n",
    "exemplo com UTF-8*:\n",
    "\n",
    "```python\n",
    "open(..., encoding=\"utf8\")\n",
    "```"
   ]
  },
  {
   "cell_type": "code",
   "execution_count": 1,
   "metadata": {},
   "outputs": [
    {
     "name": "stdout",
     "output_type": "stream",
     "text": [
      "Nome do ficheiro: provas.txt\n",
      "Ficheiro está fechado: False\n",
      "Modo de abertura do ficheiro: r\n",
      "Conteúdo do ficheiro:\n",
      "Olá que tal estás\n",
      "Isto é uma prova\n",
      "Hoje não chove\n",
      "Aproxima-se o natal\n",
      "Até logo e boa\n",
      "continuação\n"
     ]
    }
   ],
   "source": [
    "# Nome do ficheiro\n",
    "file_name = \"provas.txt\"\n",
    "\n",
    "# Abrir o ficheiro\n",
    "file = open(file_name, \"r\", encoding=\"utf8\")\n",
    "\n",
    "# Verificar se o ficheiro está fechado\n",
    "is_closed = file.closed\n",
    "\n",
    "# Modo de abertura do ficheiro\n",
    "open_mode = file.mode\n",
    "\n",
    "# Listar o conteúdo do ficheiro\n",
    "file_content = file.read()\n",
    "\n",
    "# Fechar o ficheiro\n",
    "file.close()\n",
    "\n",
    "# Imprimir as informações\n",
    "print(\"Nome do ficheiro:\", file_name)\n",
    "print(\"Ficheiro está fechado:\", is_closed)\n",
    "print(\"Modo de abertura do ficheiro:\", open_mode)\n",
    "print(\"Conteúdo do ficheiro:\")\n",
    "print(file_content)"
   ]
  },
  {
   "cell_type": "markdown",
   "metadata": {},
   "source": [
    "**2) Sobre o ficheiro anterior, obtenha a seguinte informação:**\n",
    "\n",
    "* Leitura de uma linha do ficheiro \n",
    "* Leitura do ficheiro linha a linha"
   ]
  },
  {
   "cell_type": "code",
   "execution_count": 2,
   "metadata": {},
   "outputs": [
    {
     "name": "stdout",
     "output_type": "stream",
     "text": [
      "Leitura de uma linha do ficheiro: Olá que tal estás\n",
      "\n",
      "Olá que tal estás\n",
      "\n",
      "Isto é uma prova\n",
      "\n",
      "Hoje não chove\n",
      "\n",
      "Aproxima-se o natal\n",
      "\n",
      "Até logo e boa\n",
      "\n",
      "continuação\n"
     ]
    }
   ],
   "source": [
    "# Abrir o ficheiro\n",
    "with open('provas.txt', 'r', encoding='utf-8') as file:\n",
    "    # Leitura de uma linha do ficheiro\n",
    "    line = file.readline()\n",
    "    print(\"Leitura de uma linha do ficheiro:\", line)\n",
    "\n",
    "    # Leitura do ficheiro linha a linha\n",
    "    file.seek(0)  # Volta para o início do ficheiro\n",
    "    for line in file:\n",
    "        print(line)"
   ]
  },
  {
   "cell_type": "markdown",
   "metadata": {},
   "source": [
    "**3)  Sobre o ficheiro anterior, fazer a seguinte operação:**\n",
    "\n",
    "* Abrir o ficheiro em modo de escrita (concatenando o conteúdo, sem substituir) e escrever uma nova linha de texto\n",
    "\n",
    "Comprovar que esta a funcionar corretamente imprimindo o conteúdo do ficheiro (terá que fechar e abrir a conexão para poder visualizar as mudanças)."
   ]
  },
  {
   "cell_type": "code",
   "execution_count": 3,
   "metadata": {},
   "outputs": [
    {
     "name": "stdout",
     "output_type": "stream",
     "text": [
      "Olá que tal estás\n",
      "Isto é uma prova\n",
      "Hoje não chove\n",
      "Aproxima-se o natal\n",
      "Até logo e boa\n",
      "continuação\n",
      "Esta é uma nova linha adicionada ao ficheiro.\n"
     ]
    }
   ],
   "source": [
    "# Abrir o ficheiro em modo de escrita (concatenando o conteúdo, sem substituir) e escrever uma nova linha de texto\n",
    "with open('provas.txt', 'a', encoding='utf-8') as file:\n",
    "    file.write(\"\\nEsta é uma nova linha adicionada ao ficheiro.\")\n",
    "\n",
    "# Comprovar que está a funcionar corretamente imprimindo o conteúdo do ficheiro\n",
    "with open('provas.txt', 'r', encoding='utf-8') as file:\n",
    "    content = file.read()\n",
    "    print(content)"
   ]
  },
  {
   "cell_type": "markdown",
   "metadata": {},
   "source": [
    "**4) Sobre o ficheiro anterior, fazer a seguinte operação:**\n",
    "\n",
    "* Abrir o ficheiro em modo de escrita (substituindo o conteúdo) e escrever uma nova linha de texto\n",
    "\n",
    "Comprovar que esta a funcionar corretamente imprimindo o conteúdo do ficheiro (terá que fechar e abrir a conexão para poder visualizar as mudanças)."
   ]
  },
  {
   "cell_type": "code",
   "execution_count": 6,
   "metadata": {},
   "outputs": [
    {
     "name": "stdout",
     "output_type": "stream",
     "text": [
      "Este é o novo conteúdo substituindo completamente o anterior.\n"
     ]
    }
   ],
   "source": [
    "# Abrir o ficheiro em modo de escrita (substituindo o conteúdo) e escrever uma nova linha de texto\n",
    "with open('provas.txt', 'w', encoding='utf-8') as file:\n",
    "    file.write(\"Este é o novo conteúdo substituindo completamente o anterior.\")\n",
    "\n",
    "# Comprovar que está a funcionar corretamente imprimindo o conteúdo do ficheiro\n",
    "with open('provas.txt', 'r', encoding='utf-8') as file:\n",
    "    content = file.read()\n",
    "    print(content)"
   ]
  },
  {
   "cell_type": "markdown",
   "metadata": {},
   "source": [
    "**5) Neste exercício deverá criar um programa que leia os dados de um ficheiro de texto, que transforme cada linha num dicionário e adicione o dicionario a uma lista chamada pessoas. De seguida percorre-se a lista pessoas e para cada uma mostrar da forma expressa no exemplo:**\n",
    "\n",
    "```\n",
    "(id=1) Carlos Pérez => 05/01/1989 \n",
    "```\n",
    "\n",
    "O ficheiro de texto irá denominar-se **pessoas.txt** e terá o seguinte conteúdo em texto plano (criar previamente):\n",
    "\n",
    "\n",
    "```\n",
    "1;Carlos;Pérez;05/01/1989\n",
    "2;Manuel;Heredia;26/12/1973\n",
    "3;Rosa;Campos;12/06/1961\n",
    "4;David;García;25/07/2006\n",
    "```\n",
    "\n",
    "Os campos do dicionário serão por ordem: **id**, **nome**, **apelido** e **nascimento**.\n",
    "\n",
    "**Aviso importante**: *se quer ler um ficheiro que não se escreveu diretamente com Python,  é possível que encontre erros de codificação ao mostrar alguns caracteres. Assegure-se de indicar a codificação do ficheiro manualmente durante a abertura como um argumento no **open**, por exemplo com UTF-8*:\n",
    "\n",
    "```python\n",
    "open(..., encoding=\"utf8\")\n",
    "```\n",
    "\n",
    "Pista: é possível que tenha que recorrer a funções como replace ou split para poder modificar o texto de uma linha de texto. \n",
    "Pesquisar documentação sobre isso."
   ]
  },
  {
   "cell_type": "code",
   "execution_count": 1,
   "metadata": {},
   "outputs": [
    {
     "name": "stdout",
     "output_type": "stream",
     "text": [
      "(id=1) Carlos Pérez => 05/01/1989\n",
      "(id=2) Manuel Heredia => 26/12/1973\n",
      "(id=3) Rosa Campos => 12/06/1961\n",
      "(id=4) David García => 25/07/2006\n"
     ]
    }
   ],
   "source": [
    "# Função para criar o arquivo com o conteúdo fornecido\n",
    "def criar_arquivo(filename):\n",
    "    with open(filename, 'w', encoding='utf-8') as file:\n",
    "        file.write(\"1;Carlos;Pérez;05/01/1989\\n\")\n",
    "        file.write(\"2;Manuel;Heredia;26/12/1973\\n\")\n",
    "        file.write(\"3;Rosa;Campos;12/06/1961\\n\")\n",
    "        file.write(\"4;David;García;25/07/2006\\n\")\n",
    "\n",
    "# Função para ler o arquivo e criar a lista de pessoas\n",
    "def ler_arquivo(filename):\n",
    "    pessoas = []\n",
    "    with open(filename, 'r', encoding='utf-8') as file:\n",
    "        for line in file:\n",
    "            # Dividir a linha em campos usando ';' como delimitador\n",
    "            campos = line.strip().split(';')\n",
    "            # Criar um dicionário com os campos\n",
    "            pessoa = {'id': int(campos[0]), 'nome': campos[1], 'apelido': campos[2], 'nascimento': campos[3]}\n",
    "            # Adicionar o dicionário à lista de pessoas\n",
    "            pessoas.append(pessoa)\n",
    "    return pessoas\n",
    "\n",
    "# Função para mostrar as informações formatadas\n",
    "def mostrar_pessoas(pessoas):\n",
    "    for pessoa in pessoas:\n",
    "        print(f\"(id={pessoa['id']}) {pessoa['nome']} {pessoa['apelido']} => {pessoa['nascimento']}\")\n",
    "\n",
    "# Nome do arquivo\n",
    "filename = 'pessoas.txt'\n",
    "\n",
    "# Criar o arquivo com o conteúdo fornecido\n",
    "criar_arquivo(filename)\n",
    "\n",
    "# Ler o arquivo e criar a lista de pessoas\n",
    "pessoas = ler_arquivo(filename)\n",
    "\n",
    "# Mostrar as informações formatadas\n",
    "mostrar_pessoas(pessoas)"
   ]
  },
  {
   "cell_type": "code",
   "execution_count": null,
   "metadata": {},
   "outputs": [],
   "source": []
  }
 ],
 "metadata": {
  "anaconda-cloud": {},
  "kernelspec": {
   "display_name": "Python 3 (ipykernel)",
   "language": "python",
   "name": "python3"
  },
  "language_info": {
   "codemirror_mode": {
    "name": "ipython",
    "version": 3
   },
   "file_extension": ".py",
   "mimetype": "text/x-python",
   "name": "python",
   "nbconvert_exporter": "python",
   "pygments_lexer": "ipython3",
   "version": "3.11.5"
  }
 },
 "nbformat": 4,
 "nbformat_minor": 1
}
